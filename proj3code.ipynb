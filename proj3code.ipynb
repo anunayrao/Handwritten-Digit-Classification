{
 "cells": [
  {
   "cell_type": "markdown",
   "metadata": {},
   "source": [
    "# Project 3 : Classification"
   ]
  },
  {
   "cell_type": "markdown",
   "metadata": {},
   "source": [
    "## Load MNIST on Python 3.x"
   ]
  },
  {
   "cell_type": "code",
   "execution_count": 74,
   "metadata": {},
   "outputs": [],
   "source": [
    "import pickle\n",
    "import gzip\n",
    "from sklearn.metrics import confusion_matrix"
   ]
  },
  {
   "cell_type": "code",
   "execution_count": 20,
   "metadata": {},
   "outputs": [],
   "source": [
    "filename = 'mnist.pkl.gz'\n",
    "f = gzip.open(filename, 'rb')\n",
    "training_data, validation_data, test_data = pickle.load(f, encoding='latin1')\n",
    "f.close()"
   ]
  },
  {
   "cell_type": "markdown",
   "metadata": {},
   "source": [
    "## Load USPS on Python 3.x"
   ]
  },
  {
   "cell_type": "code",
   "execution_count": 21,
   "metadata": {},
   "outputs": [],
   "source": [
    "from PIL import Image\n",
    "import os\n",
    "import numpy as np"
   ]
  },
  {
   "cell_type": "code",
   "execution_count": 52,
   "metadata": {},
   "outputs": [],
   "source": [
    "USPSMat  = []\n",
    "USPSTar  = []\n",
    "curPath  = 'USPSdata/Numerals'\n",
    "savedImg = []\n",
    "\n",
    "for j in range(0,10):\n",
    "    curFolderPath = curPath + '/' + str(j)\n",
    "    imgs =  os.listdir(curFolderPath)\n",
    "    for img in imgs:\n",
    "        curImg = curFolderPath + '/' + img\n",
    "        if curImg[-3:] == 'png':\n",
    "            img = Image.open(curImg,'r')\n",
    "            img = img.resize((28, 28))\n",
    "            savedImg = img\n",
    "            imgdata = (255-np.array(img.getdata()))/255\n",
    "            USPSMat.append(imgdata)\n",
    "            USPSTar.append(j)"
   ]
  },
  {
   "cell_type": "code",
   "execution_count": 53,
   "metadata": {},
   "outputs": [],
   "source": [
    "def softmax(x):\n",
    "    ex = np.exp(x)\n",
    "    sum_ex = np.sum( np.exp(x))\n",
    "    return ex/sum_ex"
   ]
  },
  {
   "cell_type": "markdown",
   "metadata": {},
   "source": [
    "### Variable Initilization"
   ]
  },
  {
   "cell_type": "code",
   "execution_count": 233,
   "metadata": {},
   "outputs": [],
   "source": [
    "USPSMat = np.asarray(USPSMat)\n",
    "USPSTar = np.asarray(USPSTar)\n",
    "wt = np.random.rand(10,784)/10000\n",
    "b = [1,1,1,1,1,1,1,1,1,1] \n",
    "traindata = training_data[0]\n",
    "traintar = training_data[1]\n",
    "valdata = validation_data[0]\n",
    "valtar = validation_data[1]\n",
    "testdata = test_data[0]\n",
    "testtar = test_data[1]\n",
    "t = np.zeros((50000,10))\n",
    "vt = np.zeros((10000,10))\n",
    "te = np.zeros((10000,10))\n",
    "eta = 0.003\n",
    "\n"
   ]
  },
  {
   "cell_type": "markdown",
   "metadata": {},
   "source": [
    "### One Hot Vector"
   ]
  },
  {
   "cell_type": "code",
   "execution_count": 234,
   "metadata": {},
   "outputs": [],
   "source": [
    "for i in range(len(traindata)):\n",
    "    t[i][traintar[i]]=1\n",
    "for i in range(len(valdata)):\n",
    "    vt[i][valtar[i]]=1\n",
    "\n",
    "    "
   ]
  },
  {
   "cell_type": "markdown",
   "metadata": {},
   "source": [
    "### Logistic Regression"
   ]
  },
  {
   "cell_type": "code",
   "execution_count": 235,
   "metadata": {},
   "outputs": [],
   "source": [
    "for itr in range(10):\n",
    "    for i in range(len(traindata)):\n",
    "        z = np.dot(wt,traindata[i]) + b \n",
    "        y = softmax(z)\n",
    "        E = np.dot(np.transpose((y-t[i])[np.newaxis]),traindata[i][np.newaxis])\n",
    "        wt = wt - eta*E\n",
    "    "
   ]
  },
  {
   "cell_type": "markdown",
   "metadata": {},
   "source": [
    "### Training Accuracy on MNIST"
   ]
  },
  {
   "cell_type": "code",
   "execution_count": 236,
   "metadata": {},
   "outputs": [
    {
     "name": "stdout",
     "output_type": "stream",
     "text": [
      "Training Accuracy : 92.28\n"
     ]
    }
   ],
   "source": [
    "right = 0\n",
    "wrong = 0\n",
    "for i in range(len(traindata)):\n",
    "    z = np.dot(wt,traindata[i])\n",
    "    y = softmax(z)\n",
    "    if(np.argmax(y)==traintar[i]):\n",
    "        right = right + 1\n",
    "    else:\n",
    "        wrong = wrong + 1\n",
    "    \n",
    "trainacc = (right/(right+wrong))*100\n",
    "print(\"Training Accuracy : \"+ str(trainacc))"
   ]
  },
  {
   "cell_type": "markdown",
   "metadata": {},
   "source": [
    "### Validation Accuracy on MNIST"
   ]
  },
  {
   "cell_type": "code",
   "execution_count": 237,
   "metadata": {},
   "outputs": [
    {
     "name": "stdout",
     "output_type": "stream",
     "text": [
      "Validation Accuracy : 92.56\n"
     ]
    }
   ],
   "source": [
    "right = 0\n",
    "wrong = 0\n",
    "for i in range(len(valdata)):\n",
    "    z = np.dot(wt,valdata[i])\n",
    "    y = softmax(z)\n",
    "    if(np.argmax(y)==valtar[i]):\n",
    "        right = right + 1\n",
    "    else:\n",
    "        wrong = wrong + 1\n",
    "    \n",
    "valacc = (right/(right+wrong))*100\n",
    "print(\"Validation Accuracy : \"+ str(valacc))"
   ]
  },
  {
   "cell_type": "markdown",
   "metadata": {},
   "source": [
    "### Testing Accuracy on MNIST"
   ]
  },
  {
   "cell_type": "code",
   "execution_count": 238,
   "metadata": {},
   "outputs": [
    {
     "name": "stdout",
     "output_type": "stream",
     "text": [
      "Testing Accuracy : 92.01\n"
     ]
    }
   ],
   "source": [
    "y_pred_lr =[]\n",
    "right = 0\n",
    "wrong = 0\n",
    "for i in range(len(testdata)):\n",
    "    z = np.dot(wt,testdata[i])\n",
    "    y = softmax(z)\n",
    "    y_pred_lr.append(np.argmax(y))\n",
    "    if(np.argmax(y)==testtar[i]):\n",
    "        right = right + 1\n",
    "    else:\n",
    "        wrong = wrong + 1\n",
    "    \n",
    "testacc = (right/(right+wrong))*100\n",
    "print(\"Testing Accuracy : \"+ str(testacc))"
   ]
  },
  {
   "cell_type": "markdown",
   "metadata": {},
   "source": [
    "### Testing Accuracy on USPS "
   ]
  },
  {
   "cell_type": "code",
   "execution_count": 88,
   "metadata": {},
   "outputs": [
    {
     "name": "stdout",
     "output_type": "stream",
     "text": [
      "Testing Accuracy : 33.44167208360418\n"
     ]
    }
   ],
   "source": [
    "y_pred_lr_usps = []\n",
    "right = 0\n",
    "wrong = 0\n",
    "for i in range(len(USPSMat)):\n",
    "    z = np.dot(wt,USPSMat[i])\n",
    "    y = softmax(z)\n",
    "    y_pred_lr_usps.append(np.argmax(y))\n",
    "    if(np.argmax(y)==USPSTar[i]):\n",
    "        right = right + 1\n",
    "    else:\n",
    "        wrong = wrong + 1\n",
    "    \n",
    "testacc = (right/(right+wrong))*100\n",
    "print(\"Testing Accuracy : \"+ str(testacc))"
   ]
  },
  {
   "cell_type": "markdown",
   "metadata": {},
   "source": [
    "### Confusion Matrix on MNIST"
   ]
  },
  {
   "cell_type": "code",
   "execution_count": 86,
   "metadata": {},
   "outputs": [
    {
     "name": "stdout",
     "output_type": "stream",
     "text": [
      "[[ 954    0    1    3    0    5   10    3    4    0]\n",
      " [   0 1111    2    2    0    2    4    2   12    0]\n",
      " [   5   10  909   24    7    5   13   11   40    8]\n",
      " [   2    0   15  933    0   25    2   11   16    6]\n",
      " [   0    3    6    2  899    1   12    5    9   45]\n",
      " [   8    2    2   40    6  778   14    8   27    7]\n",
      " [   8    3    3    2    7   20  910    2    3    0]\n",
      " [   1    6   21    9    5    1    0  951    4   30]\n",
      " [   4    8    4   39    8   42    9   12  841    7]\n",
      " [   7    7    2   12   23   13    0   26    4  915]]\n"
     ]
    }
   ],
   "source": [
    "y_pred_lr = np.asarray(y_pred_lr)\n",
    "y_predict = y_pred_lr\n",
    "y_true = testtar\n",
    "cf_lrmnist = confusion_matrix(y_true,y_predict)\n",
    "print(cf_lrmnist)"
   ]
  },
  {
   "cell_type": "markdown",
   "metadata": {},
   "source": [
    "### Confusion Matrix on USPS"
   ]
  },
  {
   "cell_type": "code",
   "execution_count": 112,
   "metadata": {},
   "outputs": [
    {
     "name": "stdout",
     "output_type": "stream",
     "text": [
      "[[ 469    1  183  129   91  360   68  209  147  343]\n",
      " [  87  288  276  204  177  172   18  554  201   23]\n",
      " [ 102   16 1237  163   24  245   65   46   69   32]\n",
      " [  36    3  202 1085    5  537    5   59   50   18]\n",
      " [  44   31   55   55  770  175   39  381  283  167]\n",
      " [  78    9  233  216   19 1254   60   62   51   18]\n",
      " [ 131    3  588   85   46  437  634   17   14   45]\n",
      " [ 127  102   99  667   44  133   10  462  292   64]\n",
      " [ 199   15  117  373   65  712   93   75  291   60]\n",
      " [  20   60   94  563   74  102   12  562  315  198]]\n"
     ]
    }
   ],
   "source": [
    "y_pred_lr_usps = np.asarray(y_pred_lr_usps)\n",
    "y_predict = y_pred_lr_usps\n",
    "y_true = USPSTar\n",
    "cf_lrusps = confusion_matrix(y_true,y_predict)\n",
    "print(cf_lrusps)\n"
   ]
  },
  {
   "cell_type": "markdown",
   "metadata": {},
   "source": [
    "## Mini Batch SGD Logistic Regression"
   ]
  },
  {
   "cell_type": "code",
   "execution_count": 373,
   "metadata": {},
   "outputs": [],
   "source": [
    "wt = np.random.rand(10,784)/10000\n",
    "batchsize = 50\n",
    "epoch = 20\n",
    "sum = 0\n",
    "for j in range(epoch):\n",
    "    for i in range(len(traindata)):\n",
    "        z = np.dot(wt,traindata[i]) + b \n",
    "        y = softmax(z)\n",
    "        E = np.dot(np.transpose((y-t[i])[np.newaxis]),traindata[i][np.newaxis])\n",
    "        sum = sum + E\n",
    "        if((i+1)%batchsize==0):\n",
    "            wt = wt - eta*(sum/batchsize)\n",
    "            sum = 0"
   ]
  },
  {
   "cell_type": "markdown",
   "metadata": {},
   "source": [
    "### Testing Accuracy on MNIST"
   ]
  },
  {
   "cell_type": "code",
   "execution_count": 374,
   "metadata": {},
   "outputs": [
    {
     "name": "stdout",
     "output_type": "stream",
     "text": [
      "Testing Accuracy : 90.33\n"
     ]
    }
   ],
   "source": [
    "y_pred_lr =[]\n",
    "right = 0\n",
    "wrong = 0\n",
    "for i in range(len(testdata)):\n",
    "    z = np.dot(wt,testdata[i])\n",
    "    y = softmax(z)\n",
    "    y_pred_lr.append(np.argmax(y))\n",
    "    if(np.argmax(y)==testtar[i]):\n",
    "        right = right + 1\n",
    "    else:\n",
    "        wrong = wrong + 1\n",
    "    \n",
    "testacc = (right/(right+wrong))*100\n",
    "print(\"Testing Accuracy : \"+ str(testacc))"
   ]
  },
  {
   "cell_type": "markdown",
   "metadata": {},
   "source": [
    "### Testing Accuracy on USPS"
   ]
  },
  {
   "cell_type": "code",
   "execution_count": 288,
   "metadata": {},
   "outputs": [
    {
     "name": "stdout",
     "output_type": "stream",
     "text": [
      "Testing Accuracy : 35.161758087904396\n"
     ]
    }
   ],
   "source": [
    "y_pred_lru =[]\n",
    "right = 0\n",
    "wrong = 0\n",
    "for i in range(len(USPSMat)):\n",
    "    z = np.dot(wt,USPSMat[i])\n",
    "    y = softmax(z)\n",
    "    y_pred_lru.append(np.argmax(y))\n",
    "    if(np.argmax(y)==USPSTar[i]):\n",
    "        right = right + 1\n",
    "    else:\n",
    "        wrong = wrong + 1\n",
    "    \n",
    "testacc = (right/(right+wrong))*100\n",
    "print(\"Testing Accuracy : \"+ str(testacc))"
   ]
  },
  {
   "cell_type": "markdown",
   "metadata": {},
   "source": [
    "### Confusion Matrix on MNIST"
   ]
  },
  {
   "cell_type": "code",
   "execution_count": 290,
   "metadata": {},
   "outputs": [
    {
     "name": "stdout",
     "output_type": "stream",
     "text": [
      "[[ 956    0    3    2    0    2    9    1    7    0]\n",
      " [   0 1103    2    4    1    2    4    0   19    0]\n",
      " [  11    6  889   18   15    0   17   21   45   10]\n",
      " [   5    0   17  905    1   28    4   15   24   11]\n",
      " [   1    5    5    1  904    0   11    2    8   45]\n",
      " [  15    5    6   44   14  729   16   10   44    9]\n",
      " [  16    3    5    2   12   15  899    1    5    0]\n",
      " [   3   19   28    4   11    0    0  922    4   37]\n",
      " [   9    9    9   31    8   24   13   13  844   14]\n",
      " [  10    8    6   11   44   14    0   27    7  882]]\n"
     ]
    }
   ],
   "source": [
    "y_pred_lr = np.asarray(y_pred_lr)\n",
    "y_predict = y_pred_lr\n",
    "y_true = testtar\n",
    "cf_lrmnistmb = confusion_matrix(y_true,y_predict)\n",
    "print(cf_lrmnistmb)"
   ]
  },
  {
   "cell_type": "markdown",
   "metadata": {},
   "source": [
    "### Confusion Matrix on USPS"
   ]
  },
  {
   "cell_type": "code",
   "execution_count": 291,
   "metadata": {},
   "outputs": [
    {
     "name": "stdout",
     "output_type": "stream",
     "text": [
      "[[ 595    4  357   59  250  122  101   44  159  309]\n",
      " [ 228  303  130  354  278   54   40  307  289   17]\n",
      " [ 209   25 1181  143   65   78   95   90   91   22]\n",
      " [ 106    3  118 1283   19  233   29   59   98   52]\n",
      " [  62   81   41   63 1017  123   39  130  297  147]\n",
      " [ 174   20  211  189   45 1042  126   71   87   35]\n",
      " [ 364   12  357  112  103  224  698   23   72   35]\n",
      " [ 197  212  312  464   72   78   35  299  284   47]\n",
      " [ 226   30  144  213  128  571  118   44  446   80]\n",
      " [  44  184  161  483  149   88   15  366  342  168]]\n"
     ]
    }
   ],
   "source": [
    "y_pred_lru = np.asarray(y_pred_lru)\n",
    "y_predict = y_pred_lru\n",
    "y_true = USPSTar\n",
    "cf_lruspsmb = confusion_matrix(y_true,y_predict)\n",
    "print(cf_lruspsmb)"
   ]
  },
  {
   "cell_type": "markdown",
   "metadata": {},
   "source": [
    "## Neural Network"
   ]
  },
  {
   "cell_type": "markdown",
   "metadata": {},
   "source": [
    "### Model Definition"
   ]
  },
  {
   "cell_type": "code",
   "execution_count": 278,
   "metadata": {},
   "outputs": [],
   "source": [
    "from keras.models import Sequential\n",
    "from keras.layers import Dense, Activation, Dropout\n",
    "from keras.callbacks import EarlyStopping, TensorBoard\n",
    "import pandas as pd\n",
    "import numpy as np\n",
    "\n",
    "input_size = 784\n",
    "drop_out = 0.2\n",
    "first_dense_layer_nodes  = 512\n",
    "second_dense_layer_nodes = 256\n",
    "third_dense_layer_nodes =10\n",
    "\n",
    "def get_model():\n",
    "    \n",
    "   \n",
    "    model = Sequential()\n",
    "    \n",
    "    model.add(Dense(first_dense_layer_nodes, input_dim=input_size))\n",
    "    model.add(Activation('relu'))\n",
    "    \n",
    "  \n",
    "    model.add(Dropout(drop_out))\n",
    "    \n",
    "    model.add(Dense(second_dense_layer_nodes))\n",
    "    model.add(Activation('relu'))\n",
    "    \n",
    "    model.add(Dense(third_dense_layer_nodes))\n",
    "    model.add(Activation('softmax'))\n",
    "\n",
    "    model.summary()\n",
    "    \n",
    "\n",
    "    model.compile(optimizer='rmsprop',\n",
    "                  loss='categorical_crossentropy',\n",
    "                  metrics=['accuracy'])\n",
    "    \n",
    "    return model"
   ]
  },
  {
   "cell_type": "markdown",
   "metadata": {},
   "source": [
    "### Creating Model"
   ]
  },
  {
   "cell_type": "code",
   "execution_count": 279,
   "metadata": {},
   "outputs": [
    {
     "name": "stdout",
     "output_type": "stream",
     "text": [
      "_________________________________________________________________\n",
      "Layer (type)                 Output Shape              Param #   \n",
      "=================================================================\n",
      "dense_7 (Dense)              (None, 512)               401920    \n",
      "_________________________________________________________________\n",
      "activation_7 (Activation)    (None, 512)               0         \n",
      "_________________________________________________________________\n",
      "dropout_3 (Dropout)          (None, 512)               0         \n",
      "_________________________________________________________________\n",
      "dense_8 (Dense)              (None, 256)               131328    \n",
      "_________________________________________________________________\n",
      "activation_8 (Activation)    (None, 256)               0         \n",
      "_________________________________________________________________\n",
      "dense_9 (Dense)              (None, 10)                2570      \n",
      "_________________________________________________________________\n",
      "activation_9 (Activation)    (None, 10)                0         \n",
      "=================================================================\n",
      "Total params: 535,818\n",
      "Trainable params: 535,818\n",
      "Non-trainable params: 0\n",
      "_________________________________________________________________\n"
     ]
    }
   ],
   "source": [
    "model = get_model()"
   ]
  },
  {
   "cell_type": "code",
   "execution_count": 280,
   "metadata": {},
   "outputs": [
    {
     "name": "stdout",
     "output_type": "stream",
     "text": [
      "Train on 50000 samples, validate on 10000 samples\n",
      "Epoch 1/25\n",
      "50000/50000 [==============================] - 4s 88us/step - loss: 0.2730 - acc: 0.9156 - val_loss: 0.1233 - val_acc: 0.9636\n",
      "Epoch 2/25\n",
      "50000/50000 [==============================] - 4s 77us/step - loss: 0.1101 - acc: 0.9664 - val_loss: 0.0917 - val_acc: 0.9728\n",
      "Epoch 3/25\n",
      "50000/50000 [==============================] - 4s 78us/step - loss: 0.0751 - acc: 0.9761 - val_loss: 0.0857 - val_acc: 0.9760\n",
      "Epoch 4/25\n",
      "50000/50000 [==============================] - 5s 96us/step - loss: 0.0597 - acc: 0.9818 - val_loss: 0.0839 - val_acc: 0.9756\n",
      "Epoch 5/25\n",
      "50000/50000 [==============================] - 5s 105us/step - loss: 0.0504 - acc: 0.9844 - val_loss: 0.0791 - val_acc: 0.9807\n",
      "Epoch 6/25\n",
      "50000/50000 [==============================] - 4s 82us/step - loss: 0.0421 - acc: 0.9868 - val_loss: 0.0893 - val_acc: 0.9780\n",
      "Epoch 7/25\n",
      "50000/50000 [==============================] - 4s 74us/step - loss: 0.0363 - acc: 0.9887 - val_loss: 0.0808 - val_acc: 0.9809\n",
      "Epoch 8/25\n",
      "50000/50000 [==============================] - 4s 75us/step - loss: 0.0294 - acc: 0.9904 - val_loss: 0.1272 - val_acc: 0.9721\n",
      "Epoch 9/25\n",
      "50000/50000 [==============================] - 4s 75us/step - loss: 0.0270 - acc: 0.9912 - val_loss: 0.0943 - val_acc: 0.9794\n",
      "Epoch 10/25\n",
      "50000/50000 [==============================] - 4s 76us/step - loss: 0.0236 - acc: 0.9924 - val_loss: 0.1001 - val_acc: 0.9809\n",
      "Epoch 11/25\n",
      "50000/50000 [==============================] - 4s 75us/step - loss: 0.0225 - acc: 0.9933 - val_loss: 0.0922 - val_acc: 0.9817\n",
      "Epoch 12/25\n",
      "50000/50000 [==============================] - 4s 75us/step - loss: 0.0192 - acc: 0.9938 - val_loss: 0.0995 - val_acc: 0.9804\n",
      "Epoch 13/25\n",
      "50000/50000 [==============================] - 4s 84us/step - loss: 0.0167 - acc: 0.9945 - val_loss: 0.0990 - val_acc: 0.9814\n",
      "Epoch 14/25\n",
      "50000/50000 [==============================] - 4s 84us/step - loss: 0.0170 - acc: 0.9948 - val_loss: 0.1055 - val_acc: 0.9825\n",
      "Epoch 15/25\n",
      "50000/50000 [==============================] - 4s 89us/step - loss: 0.0167 - acc: 0.9946 - val_loss: 0.0956 - val_acc: 0.9829\n",
      "Epoch 16/25\n",
      "50000/50000 [==============================] - 5s 104us/step - loss: 0.0151 - acc: 0.9952 - val_loss: 0.1139 - val_acc: 0.9820\n",
      "Epoch 17/25\n",
      "50000/50000 [==============================] - 4s 87us/step - loss: 0.0144 - acc: 0.9953 - val_loss: 0.1034 - val_acc: 0.9834\n",
      "Epoch 18/25\n",
      "50000/50000 [==============================] - 4s 89us/step - loss: 0.0143 - acc: 0.9956 - val_loss: 0.1035 - val_acc: 0.9830\n",
      "Epoch 19/25\n",
      "50000/50000 [==============================] - 5s 91us/step - loss: 0.0113 - acc: 0.9963 - val_loss: 0.1056 - val_acc: 0.9827\n",
      "Epoch 20/25\n",
      "50000/50000 [==============================] - 4s 86us/step - loss: 0.0115 - acc: 0.9965 - val_loss: 0.1144 - val_acc: 0.9833\n",
      "Epoch 21/25\n",
      "50000/50000 [==============================] - 4s 85us/step - loss: 0.0103 - acc: 0.9970 - val_loss: 0.1178 - val_acc: 0.9827\n",
      "Epoch 22/25\n",
      "50000/50000 [==============================] - 4s 90us/step - loss: 0.0110 - acc: 0.9969 - val_loss: 0.1297 - val_acc: 0.9793\n",
      "Epoch 23/25\n",
      "50000/50000 [==============================] - 4s 85us/step - loss: 0.0093 - acc: 0.9972 - val_loss: 0.1239 - val_acc: 0.9821\n",
      "Epoch 24/25\n",
      "50000/50000 [==============================] - 4s 85us/step - loss: 0.0111 - acc: 0.9965 - val_loss: 0.1197 - val_acc: 0.9819\n",
      "Epoch 25/25\n",
      "50000/50000 [==============================] - 5s 102us/step - loss: 0.0113 - acc: 0.9967 - val_loss: 0.1280 - val_acc: 0.9813\n"
     ]
    }
   ],
   "source": [
    "validation_data_split = 0\n",
    "num_epochs = 25\n",
    "model_batch_size = 128\n",
    "tb_batch_size = 32\n",
    "early_patience = 100\n",
    "\n",
    "tensorboard_cb   = TensorBoard(log_dir='logs', batch_size= tb_batch_size, write_graph= True)\n",
    "earlystopping_cb = EarlyStopping(monitor='val_loss', verbose=1, patience=early_patience, mode='min')\n",
    "#TrainingData = np.transpose(TrainingData)\n",
    "#TestData = np.transpose(TestData)\n",
    "# Process Dataset\n",
    "processedData, processedLabel = traindata, t\n",
    "history = model.fit(processedData\n",
    "                    , processedLabel\n",
    "                    , validation_data = (valdata,vt )\n",
    "                    , epochs=num_epochs\n",
    "                    , batch_size=model_batch_size\n",
    "                    , callbacks = [tensorboard_cb,earlystopping_cb]\n",
    "                   )"
   ]
  },
  {
   "cell_type": "markdown",
   "metadata": {},
   "source": [
    "### Training and Validation Graphs"
   ]
  },
  {
   "cell_type": "code",
   "execution_count": 281,
   "metadata": {},
   "outputs": [
    {
     "data": {
      "text/plain": [
       "array([<matplotlib.axes._subplots.AxesSubplot object at 0x1a3c1fdc50>,\n",
       "       <matplotlib.axes._subplots.AxesSubplot object at 0x1a3d732320>,\n",
       "       <matplotlib.axes._subplots.AxesSubplot object at 0x1a3d80c4e0>,\n",
       "       <matplotlib.axes._subplots.AxesSubplot object at 0x1a3d8126a0>],\n",
       "      dtype=object)"
      ]
     },
     "execution_count": 281,
     "metadata": {},
     "output_type": "execute_result"
    },
    {
     "data": {
      "image/png": "[encoded data removed]",
      "text/plain": [
       "<Figure size 720x1080 with 4 Axes>"
      ]
     },
     "metadata": {},
     "output_type": "display_data"
    }
   ],
   "source": [
    "%matplotlib inline\n",
    "df = pd.DataFrame(history.history)\n",
    "df.plot(subplots=True, grid=True, figsize=(10,15))"
   ]
  },
  {
   "cell_type": "markdown",
   "metadata": {},
   "source": [
    "### Testing Accuracy on MNIST"
   ]
  },
  {
   "cell_type": "code",
   "execution_count": 282,
   "metadata": {},
   "outputs": [],
   "source": [
    "y = model.predict(testdata)\n"
   ]
  },
  {
   "cell_type": "code",
   "execution_count": 283,
   "metadata": {},
   "outputs": [
    {
     "name": "stdout",
     "output_type": "stream",
     "text": [
      "Testing Accuracy : 98.24000000000001\n"
     ]
    }
   ],
   "source": [
    "right = 0\n",
    "wrong = 0\n",
    "y_pred_nn =[]\n",
    "for i in range(len(testdata)):\n",
    "    y_pred_nn.append(np.argmax(y[i]))\n",
    "    if(np.argmax(y[i])==testtar[i]):\n",
    "        right = right + 1\n",
    "    else:\n",
    "        wrong = wrong + 1\n",
    "    \n",
    "testacc = (right/(right+wrong))*100\n",
    "print(\"Testing Accuracy : \"+ str(testacc))"
   ]
  },
  {
   "cell_type": "markdown",
   "metadata": {},
   "source": [
    "### Training Accuracy on MNIST"
   ]
  },
  {
   "cell_type": "code",
   "execution_count": 284,
   "metadata": {},
   "outputs": [
    {
     "name": "stdout",
     "output_type": "stream",
     "text": [
      "Training Accuracy : 99.872\n"
     ]
    }
   ],
   "source": [
    "traindata.shape\n",
    "ytr = model.predict(traindata)\n",
    "right = 0\n",
    "wrong = 0\n",
    "y_pred_nntr =[]\n",
    "for i in range(len(traindata)):\n",
    "    #y_pred_nn.append(np.argmax(y[i]))\n",
    "    if(np.argmax(ytr[i])==traintar[i]):\n",
    "        right = right + 1\n",
    "    else:\n",
    "        wrong = wrong + 1\n",
    "    \n",
    "tracc = (right/(right+wrong))*100\n",
    "print(\"Training Accuracy : \"+ str(tracc))\n"
   ]
  },
  {
   "cell_type": "markdown",
   "metadata": {},
   "source": [
    "### Validation Accuracy"
   ]
  },
  {
   "cell_type": "code",
   "execution_count": 285,
   "metadata": {},
   "outputs": [
    {
     "name": "stdout",
     "output_type": "stream",
     "text": [
      "Testing Accuracy : 98.13\n"
     ]
    }
   ],
   "source": [
    "yv = model.predict(valdata)\n",
    "right = 0\n",
    "wrong = 0\n",
    "y_pred_nntr =[]\n",
    "for i in range(len(valdata)):\n",
    "    #y_pred_nn.append(np.argmax(y[i]))\n",
    "    if(np.argmax(yv[i])==valtar[i]):\n",
    "        right = right + 1\n",
    "    else:\n",
    "        wrong = wrong + 1\n",
    "    \n",
    "valacc = (right/(right+wrong))*100\n",
    "print(\"Testing Accuracy : \"+ str(valacc))"
   ]
  },
  {
   "cell_type": "markdown",
   "metadata": {},
   "source": [
    "### Testing Accuracy on USPS"
   ]
  },
  {
   "cell_type": "code",
   "execution_count": 104,
   "metadata": {},
   "outputs": [],
   "source": [
    "y = model.predict(USPSMat)"
   ]
  },
  {
   "cell_type": "code",
   "execution_count": 115,
   "metadata": {},
   "outputs": [
    {
     "name": "stdout",
     "output_type": "stream",
     "text": [
      "Testing Accuracy : 42.912145607280365\n"
     ]
    }
   ],
   "source": [
    "right = 0\n",
    "wrong = 0\n",
    "y_pred_nn_usps =[]\n",
    "for i in range(len(USPSTar)):\n",
    "    y_pred_nn_usps.append(np.argmax(y[i]))\n",
    "    if(np.argmax(y[i])==USPSTar[i]):\n",
    "        right = right + 1\n",
    "    else:\n",
    "        wrong = wrong + 1\n",
    "    \n",
    "testacc = (right/(right+wrong))*100\n",
    "print(\"Testing Accuracy : \"+ str(testacc))"
   ]
  },
  {
   "cell_type": "markdown",
   "metadata": {},
   "source": [
    "### Confusion Matrix on MNIST"
   ]
  },
  {
   "cell_type": "code",
   "execution_count": 116,
   "metadata": {},
   "outputs": [
    {
     "name": "stdout",
     "output_type": "stream",
     "text": [
      "[[ 972    1    0    1    0    2    2    1    1    0]\n",
      " [   0 1130    2    0    0    1    2    0    0    0]\n",
      " [   4    2 1007    4    1    0    2    7    5    0]\n",
      " [   0    0    3  992    0    7    0    3    2    3]\n",
      " [   3    0    2    0  951    0    7    1    2   16]\n",
      " [   2    0    0    5    0  877    3    0    3    2]\n",
      " [   2    3    0    0    2    7  943    0    0    1]\n",
      " [   1    8    9    1    1    0    0  998    2    8]\n",
      " [   0    1    1    5    1    7    2    2  951    4]\n",
      " [   0    2    0    6    4    6    1    2    3  985]]\n"
     ]
    }
   ],
   "source": [
    "y_predict = y_pred_nn\n",
    "y_true = testtar\n",
    "cf_nnmnist = confusion_matrix(y_true,y_predict)\n",
    "print(cf_nnmnist)"
   ]
  },
  {
   "cell_type": "markdown",
   "metadata": {},
   "source": [
    "### Confusion Matrix on USPS"
   ]
  },
  {
   "cell_type": "code",
   "execution_count": 117,
   "metadata": {},
   "outputs": [
    {
     "name": "stdout",
     "output_type": "stream",
     "text": [
      "[[ 390    3  283   42  159  207  435  179   94  208]\n",
      " [  49  470  534  110  301   89   37  214  115   81]\n",
      " [  82    4 1537   33   14  100  146   34   44    5]\n",
      " [  22    1  482 1039    6  332   38   19   41   20]\n",
      " [   9   70  102   13 1140  145   73  250  154   44]\n",
      " [  14    0  367   52    2 1314  183   18   40   10]\n",
      " [  68   10  369    5   17  102 1205  120   15   89]\n",
      " [  15  239  334  297   53   56   56  772  169    9]\n",
      " [  76   16  291  280   59  398  227  145  483   25]\n",
      " [   2  111  177  219  168   29   29  760  273  232]]\n"
     ]
    }
   ],
   "source": [
    "y_pred_nn_usps = np.asarray(y_pred_nn_usps)\n",
    "y_predict = y_pred_nn_usps\n",
    "y_true = USPSTar\n",
    "cf_nnusps = confusion_matrix(y_true,y_predict)\n",
    "print(cf_nnusps)\n"
   ]
  },
  {
   "cell_type": "markdown",
   "metadata": {},
   "source": [
    "### Processing Dataset (Training = 60000 and Test = 10000)"
   ]
  },
  {
   "cell_type": "code",
   "execution_count": 69,
   "metadata": {},
   "outputs": [],
   "source": [
    "traindata = np.concatenate((traindata,valdata),axis =0)\n",
    "traintar = np.concatenate((traintar,valtar),axis =0)\n",
    "t = np.concatenate((t,vt),axis=0)"
   ]
  },
  {
   "cell_type": "markdown",
   "metadata": {},
   "source": [
    "## SVM using Linear Kernal"
   ]
  },
  {
   "cell_type": "code",
   "execution_count": 70,
   "metadata": {},
   "outputs": [],
   "source": [
    "from sklearn.svm import LinearSVC"
   ]
  },
  {
   "cell_type": "code",
   "execution_count": 71,
   "metadata": {},
   "outputs": [],
   "source": [
    "linear_svm = LinearSVC()\n",
    "linear_svm.fit(traindata, traintar)\n",
    "y_pred_svm = linear_svm.predict(testdata)\n"
   ]
  },
  {
   "cell_type": "code",
   "execution_count": 123,
   "metadata": {},
   "outputs": [],
   "source": [
    "y_pred_svmusps = linear_svm.predict(USPSMat)\n"
   ]
  },
  {
   "cell_type": "markdown",
   "metadata": {},
   "source": [
    "### Testing Accuracy on MNIST"
   ]
  },
  {
   "cell_type": "code",
   "execution_count": 119,
   "metadata": {},
   "outputs": [
    {
     "name": "stdout",
     "output_type": "stream",
     "text": [
      "Testing Accuracy : 91.78\n"
     ]
    }
   ],
   "source": [
    "right = 0\n",
    "wrong = 0\n",
    "for i in range(len(testdata)):\n",
    "    if(y_pred_svm[i]==testtar[i]):\n",
    "        right = right + 1\n",
    "    else:\n",
    "        wrong = wrong + 1\n",
    "    \n",
    "testacc = (right/(right+wrong))*100\n",
    "print(\"Testing Accuracy : \"+ str(testacc))"
   ]
  },
  {
   "cell_type": "markdown",
   "metadata": {},
   "source": [
    "### Testing Accuracy on USPS"
   ]
  },
  {
   "cell_type": "code",
   "execution_count": 125,
   "metadata": {},
   "outputs": [
    {
     "name": "stdout",
     "output_type": "stream",
     "text": [
      "Testing Accuracy : 26.71633581679084\n"
     ]
    }
   ],
   "source": [
    "right = 0\n",
    "wrong = 0\n",
    "for i in range(len(USPSTar)):\n",
    "    if(y_pred_svmusps[i]==USPSTar[i]):\n",
    "        right = right + 1\n",
    "    else:\n",
    "        wrong = wrong + 1\n",
    "    \n",
    "testacc = (right/(right+wrong))*100\n",
    "print(\"Testing Accuracy : \"+ str(testacc))"
   ]
  },
  {
   "cell_type": "markdown",
   "metadata": {},
   "source": [
    "### Confusion Matrix on MNIST"
   ]
  },
  {
   "cell_type": "code",
   "execution_count": 120,
   "metadata": {},
   "outputs": [
    {
     "name": "stdout",
     "output_type": "stream",
     "text": [
      "[[ 961    0    2    1    1    4    6    3    1    1]\n",
      " [   0 1112    3    2    0    1    5    1   11    0]\n",
      " [  11   11  911   18   10    4   13   12   39    3]\n",
      " [   4    0   19  918    2   22    5   12   20    8]\n",
      " [   1    4    5    4  913    0    9    3    5   38]\n",
      " [   9    2    0   39   12  767   18    7   30    8]\n",
      " [   7    4    7    2    5   21  909    1    2    0]\n",
      " [   2    8   23    5    7    1    1  948    5   28]\n",
      " [  11   13    8   20   14   31    8   13  843   13]\n",
      " [   7    8    2   15   31   12    0   26   12  896]]\n"
     ]
    }
   ],
   "source": [
    "y_predict = y_pred_svm\n",
    "y_true = testtar\n",
    "cf_svmmnist = confusion_matrix(y_true,y_predict)\n",
    "print(cf_svmmnist)"
   ]
  },
  {
   "cell_type": "markdown",
   "metadata": {},
   "source": [
    "### Confusion Matrix on USPS"
   ]
  },
  {
   "cell_type": "code",
   "execution_count": 124,
   "metadata": {},
   "outputs": [
    {
     "name": "stdout",
     "output_type": "stream",
     "text": [
      "[[ 381    1  348  233   51  161  111  572   60   82]\n",
      " [  46  280  658  158  362   96   28  284   67   21]\n",
      " [  75   56 1243  104   38  202  155   86   20   20]\n",
      " [  46   34  423  753   19  527   37   89   41   31]\n",
      " [  64   52  176  120  556  183   67  604  138   40]\n",
      " [  49   27  752  199   20  716   80  125   24    8]\n",
      " [  86    8  698  106   51  392  507   85   17   50]\n",
      " [ 149   95  235  447   92  136   28  694   95   29]\n",
      " [ 207   28  155  619  121  371  104  238  117   40]\n",
      " [  48   56  140  524  101   80   11  768  176   96]]\n"
     ]
    }
   ],
   "source": [
    "y_pred_svmusps = np.asarray(y_pred_svmusps)\n",
    "y_predict = y_pred_svmusps\n",
    "y_true = USPSTar\n",
    "cf_nnusps = confusion_matrix(y_true,y_predict)\n",
    "print(cf_nnusps)"
   ]
  },
  {
   "cell_type": "markdown",
   "metadata": {},
   "source": [
    "## SVM using RBF Kernel and Gamma = 0.05 and C = 5"
   ]
  },
  {
   "cell_type": "code",
   "execution_count": 215,
   "metadata": {},
   "outputs": [],
   "source": [
    "from sklearn import svm"
   ]
  },
  {
   "cell_type": "code",
   "execution_count": 216,
   "metadata": {},
   "outputs": [],
   "source": [
    "classifier1 = svm.SVC(kernel='rbf',gamma=0.05,C=5)\n",
    "#classifier = svm.SVC()\n",
    "\n",
    "\n",
    "# We learn the digits on the first half of the digits\n",
    "classifier1.fit(traindata,traintar)\n",
    "\n",
    "# Now predict the value of the digit on the second half:\n",
    "#expected = label_test\n",
    "predicted1 = classifier1.predict(testdata)"
   ]
  },
  {
   "cell_type": "code",
   "execution_count": 217,
   "metadata": {},
   "outputs": [
    {
     "name": "stdout",
     "output_type": "stream",
     "text": [
      "Testing Accuracy : 98.28\n"
     ]
    }
   ],
   "source": [
    "right = 0\n",
    "wrong = 0\n",
    "for i in range(len(testdata)):\n",
    "    if(predicted1[i]==testtar[i]):\n",
    "        right = right + 1\n",
    "    else:\n",
    "        wrong = wrong + 1\n",
    "    \n",
    "testacc = (right/(right+wrong))*100\n",
    "print(\"Testing Accuracy : \"+ str(testacc))"
   ]
  },
  {
   "cell_type": "code",
   "execution_count": 231,
   "metadata": {},
   "outputs": [],
   "source": [
    "predicted1usps = classifier1.predict(USPSMat)"
   ]
  },
  {
   "cell_type": "code",
   "execution_count": 242,
   "metadata": {},
   "outputs": [
    {
     "name": "stdout",
     "output_type": "stream",
     "text": [
      "Testing Accuracy : 26.136306815340767\n"
     ]
    }
   ],
   "source": [
    "right = 0\n",
    "wrong = 0\n",
    "for i in range(len(USPSTar)):\n",
    "    if(predicted1usps[i]==USPSTar[i]):\n",
    "        right = right + 1\n",
    "    else:\n",
    "        wrong = wrong + 1\n",
    "    \n",
    "testacc = (right/(right+wrong))*100\n",
    "print(\"Testing Accuracy : \"+ str(testacc))"
   ]
  },
  {
   "cell_type": "markdown",
   "metadata": {},
   "source": [
    "### Confusion Matrix on MNIST"
   ]
  },
  {
   "cell_type": "code",
   "execution_count": 222,
   "metadata": {},
   "outputs": [
    {
     "name": "stdout",
     "output_type": "stream",
     "text": [
      "[[ 974    0    1    0    0    1    1    1    2    0]\n",
      " [   0 1128    3    1    0    1    0    1    1    0]\n",
      " [   4    0 1015    1    1    0    0    6    5    0]\n",
      " [   0    0    1  996    0    4    0    5    4    0]\n",
      " [   0    1    3    0  965    0    4    0    2    7]\n",
      " [   2    0    1    7    1  872    3    1    4    1]\n",
      " [   5    2    0    0    2    3  945    0    1    0]\n",
      " [   0    3    9    1    1    0    0 1004    2    8]\n",
      " [   2    0    1    6    1    2    0    2  958    2]\n",
      " [   4    4    2    8    6    2    0    6    6  971]]\n"
     ]
    }
   ],
   "source": [
    "y_predict = predicted1\n",
    "y_true = testtar\n",
    "cf_svmmnistcon = confusion_matrix(y_true,y_predict)\n",
    "print(cf_svmmnistcon)"
   ]
  },
  {
   "cell_type": "markdown",
   "metadata": {},
   "source": [
    "### Confusion Matrix on USPS"
   ]
  },
  {
   "cell_type": "code",
   "execution_count": 252,
   "metadata": {},
   "outputs": [
    {
     "name": "stdout",
     "output_type": "stream",
     "text": [
      "[[ 226    0 1564    2   26   35    2    0   79   66]\n",
      " [  78  257  712  173  264   77   12  335   88    4]\n",
      " [   8    0 1944    6    3   20    1    6   11    0]\n",
      " [   4    0 1195  725    0   41    0    0   35    0]\n",
      " [   6    0 1045   18  521   96    0   57  252    5]\n",
      " [  15    0 1305   17    1  625    0    0   37    0]\n",
      " [  78    0 1534    2   10   61  290    0   22    3]\n",
      " [  17    6 1433  129    6  134    0  222   52    1]\n",
      " [   7    0 1387   14    4  221    0    0  367    0]\n",
      " [   1    0 1510   79   26   29    0   39  266   50]]\n"
     ]
    }
   ],
   "source": [
    "y_predict = predicted1usps\n",
    "y_true = USPSTar\n",
    "cf_svmmnistconu = confusion_matrix(y_true,y_predict)\n",
    "print(cf_svmmnistconu)"
   ]
  },
  {
   "cell_type": "markdown",
   "metadata": {},
   "source": [
    "## SVM using rbf Kernel with default parameters."
   ]
  },
  {
   "cell_type": "code",
   "execution_count": 218,
   "metadata": {},
   "outputs": [],
   "source": [
    "classifier2 = svm.SVC(kernel='rbf')\n",
    "#classifier = svm.SVC()\n",
    "\n",
    "\n",
    "# We learn the digits on the first half of the digits\n",
    "classifier2.fit(traindata,traintar)\n",
    "\n",
    "# Now predict the value of the digit on the second half:\n",
    "#expected = label_test\n",
    "predicted2 = classifier2.predict(testdata)"
   ]
  },
  {
   "cell_type": "code",
   "execution_count": 219,
   "metadata": {},
   "outputs": [
    {
     "name": "stdout",
     "output_type": "stream",
     "text": [
      "Testing Accuracy : 94.35\n"
     ]
    }
   ],
   "source": [
    "right = 0\n",
    "wrong = 0\n",
    "for i in range(len(testdata)):\n",
    "    if(predicted2[i]==testtar[i]):\n",
    "        right = right + 1\n",
    "    else:\n",
    "        wrong = wrong + 1\n",
    "    \n",
    "testacc = (right/(right+wrong))*100\n",
    "print(\"Testing Accuracy : \"+ str(testacc))"
   ]
  },
  {
   "cell_type": "code",
   "execution_count": 240,
   "metadata": {},
   "outputs": [],
   "source": [
    "predicted2u = classifier2.predict(USPSMat)"
   ]
  },
  {
   "cell_type": "code",
   "execution_count": 241,
   "metadata": {},
   "outputs": [
    {
     "name": "stdout",
     "output_type": "stream",
     "text": [
      "Testing Accuracy : 38.54192709635482\n"
     ]
    }
   ],
   "source": [
    "right = 0\n",
    "wrong = 0\n",
    "for i in range(len(USPSTar)):\n",
    "    if(predicted2u[i]==USPSTar[i]):\n",
    "        right = right + 1\n",
    "    else:\n",
    "        wrong = wrong + 1\n",
    "    \n",
    "testacc = (right/(right+wrong))*100\n",
    "print(\"Testing Accuracy : \"+ str(testacc))"
   ]
  },
  {
   "cell_type": "markdown",
   "metadata": {},
   "source": [
    "### Confusion Matrixon MNIST"
   ]
  },
  {
   "cell_type": "code",
   "execution_count": 223,
   "metadata": {},
   "outputs": [
    {
     "name": "stdout",
     "output_type": "stream",
     "text": [
      "[[ 967    0    1    0    0    5    4    1    2    0]\n",
      " [   0 1120    2    3    0    1    3    1    5    0]\n",
      " [   9    1  962    7   10    1   13   11   16    2]\n",
      " [   1    1   14  950    1   17    1   10   11    4]\n",
      " [   1    1    7    0  937    0    7    2    2   25]\n",
      " [   7    4    5   33    7  808   11    2   10    5]\n",
      " [  10    3    4    1    5   10  924    0    1    0]\n",
      " [   2   13   22    5    7    1    0  954    4   20]\n",
      " [   4    6    6   14    8   24   10    8  891    3]\n",
      " [  10    6    0   12   33    5    1   14    6  922]]\n"
     ]
    }
   ],
   "source": [
    "y_predict = predicted2\n",
    "y_true = testtar\n",
    "cf_svmmnistcon2 = confusion_matrix(y_true,y_predict)\n",
    "print(cf_svmmnistcon2)"
   ]
  },
  {
   "cell_type": "markdown",
   "metadata": {},
   "source": [
    "### Confusion Matrix USPS"
   ]
  },
  {
   "cell_type": "code",
   "execution_count": 256,
   "metadata": {},
   "outputs": [
    {
     "name": "stdout",
     "output_type": "stream",
     "text": [
      "[[ 573    2  428   19  285  248   73   44    6  322]\n",
      " [ 110  429  285  137  273  180   46  501   22   17]\n",
      " [ 128   18 1402   59   39  198   61   57   23   14]\n",
      " [  76    3  186 1123   11  483    5   70   27   16]\n",
      " [  18   67   91   14 1167  267   22  194   69   91]\n",
      " [ 108   17  257  102   25 1367   60   43   15    6]\n",
      " [ 197    7  489   24   98  394  748   13    7   23]\n",
      " [  50  225  457  265   57  416   15  452   41   22]\n",
      " [  73   25  209  193   87 1006   95   41  244   27]\n",
      " [  26  166  228  278  213  165    8  499  214  203]]\n"
     ]
    }
   ],
   "source": [
    "y_predict = predicted2u\n",
    "y_true = USPSTar\n",
    "cf_svmmnistcon2usps = confusion_matrix(y_true,y_predict)\n",
    "print(cf_svmmnistcon2usps)"
   ]
  },
  {
   "cell_type": "markdown",
   "metadata": {},
   "source": [
    "## SVM using rbf Kernel and gamma = 1"
   ]
  },
  {
   "cell_type": "code",
   "execution_count": 220,
   "metadata": {},
   "outputs": [],
   "source": [
    "classifier = svm.SVC(kernel='rbf',gamma=1)\n",
    "#classifier = svm.SVC()\n",
    "\n",
    "\n",
    "# We learn the digits on the first half of the digits\n",
    "classifier.fit(traindata,traintar)\n",
    "\n",
    "# Now predict the value of the digit on the second half:\n",
    "#expected = label_test\n",
    "predicted = classifier.predict(testdata)"
   ]
  },
  {
   "cell_type": "code",
   "execution_count": 221,
   "metadata": {},
   "outputs": [
    {
     "name": "stdout",
     "output_type": "stream",
     "text": [
      "Testing Accuracy : 17.59\n"
     ]
    }
   ],
   "source": [
    "right = 0\n",
    "wrong = 0\n",
    "for i in range(len(testdata)):\n",
    "    if(predicted[i]==testtar[i]):\n",
    "        right = right + 1\n",
    "    else:\n",
    "        wrong = wrong + 1\n",
    "    \n",
    "testacc = (right/(right+wrong))*100\n",
    "print(\"Testing Accuracy : \"+ str(testacc))"
   ]
  },
  {
   "cell_type": "code",
   "execution_count": 253,
   "metadata": {},
   "outputs": [
    {
     "name": "stdout",
     "output_type": "stream",
     "text": [
      "Testing Accuracy : 10.000500025001251\n"
     ]
    }
   ],
   "source": [
    "predictedusps = classifier.predict(USPSMat)\n",
    "right = 0\n",
    "wrong = 0\n",
    "for i in range(len(USPSTar)):\n",
    "    if(predictedusps[i]==USPSTar[i]):\n",
    "        right = right + 1\n",
    "    else:\n",
    "        wrong = wrong + 1\n",
    "    \n",
    "testaccusps = (right/(right+wrong))*100\n",
    "print(\"Testing Accuracy : \"+ str(testaccusps))\n"
   ]
  },
  {
   "cell_type": "markdown",
   "metadata": {},
   "source": [
    "### Confusion Matrix on MNIST"
   ]
  },
  {
   "cell_type": "code",
   "execution_count": 224,
   "metadata": {},
   "outputs": [
    {
     "name": "stdout",
     "output_type": "stream",
     "text": [
      "[[   0    0    0    0    0    0    0  980    0    0]\n",
      " [   0  731    0    0    0    0    0  404    0    0]\n",
      " [   0    0    0    0    0    0    0 1032    0    0]\n",
      " [   0    0    0    0    0    0    0 1010    0    0]\n",
      " [   0    0    0    0    0    0    0  982    0    0]\n",
      " [   0    0    0    0    0    0    0  892    0    0]\n",
      " [   0    0    0    0    0    0    0  958    0    0]\n",
      " [   0    0    0    0    0    0    0 1028    0    0]\n",
      " [   0    0    0    0    0    0    0  974    0    0]\n",
      " [   0    0    0    0    0    0    0 1009    0    0]]\n"
     ]
    }
   ],
   "source": [
    "y_predict = predicted\n",
    "y_true = testtar\n",
    "cf_svmmnistco = confusion_matrix(y_true,y_predict)\n",
    "print(cf_svmmnistco)"
   ]
  },
  {
   "cell_type": "markdown",
   "metadata": {},
   "source": [
    "### Confusion Matrix on USPS"
   ]
  },
  {
   "cell_type": "code",
   "execution_count": 254,
   "metadata": {},
   "outputs": [
    {
     "name": "stdout",
     "output_type": "stream",
     "text": [
      "[[   0    0    0    0    0    0    0 2000    0    0]\n",
      " [   0    0    0    0    0    0    0 2000    0    0]\n",
      " [   0    0    0    0    0    0    0 1999    0    0]\n",
      " [   0    0    0    0    0    0    0 2000    0    0]\n",
      " [   0    0    0    0    0    0    0 2000    0    0]\n",
      " [   0    0    0    0    0    0    0 2000    0    0]\n",
      " [   0    0    0    0    0    0    0 2000    0    0]\n",
      " [   0    0    0    0    0    0    0 2000    0    0]\n",
      " [   0    0    0    0    0    0    0 2000    0    0]\n",
      " [   0    0    0    0    0    0    0 2000    0    0]]\n"
     ]
    }
   ],
   "source": [
    "y_predict = predictedusps\n",
    "y_true = USPSTar\n",
    "cf_svmmnistcousps = confusion_matrix(y_true,y_predict)\n",
    "print(cf_svmmnistcousps)"
   ]
  },
  {
   "cell_type": "markdown",
   "metadata": {},
   "source": [
    "## Random Forest"
   ]
  },
  {
   "cell_type": "code",
   "execution_count": 126,
   "metadata": {},
   "outputs": [],
   "source": [
    "from sklearn.ensemble import RandomForestClassifier\n",
    "\n"
   ]
  },
  {
   "cell_type": "code",
   "execution_count": 226,
   "metadata": {},
   "outputs": [],
   "source": [
    "clf_rf = RandomForestClassifier()\n",
    "clf_rf.fit(traindata, traintar)\n",
    "y_pred_rf = clf_rf.predict(testdata)\n",
    "y_pred_u = clf_rf.predict(USPSMat)"
   ]
  },
  {
   "cell_type": "markdown",
   "metadata": {},
   "source": [
    "### Testing Accuracy on MNIST"
   ]
  },
  {
   "cell_type": "code",
   "execution_count": 128,
   "metadata": {},
   "outputs": [
    {
     "name": "stdout",
     "output_type": "stream",
     "text": [
      "Testing Accuracy : 94.6\n"
     ]
    }
   ],
   "source": [
    "right = 0\n",
    "wrong = 0\n",
    "for i in range(len(testdata)):\n",
    "    if(y_pred_rf[i]==testtar[i]):\n",
    "        right = right + 1\n",
    "    else:\n",
    "        wrong = wrong + 1\n",
    "    \n",
    "testacc = (right/(right+wrong))*100\n",
    "print(\"Testing Accuracy : \"+ str(testacc))"
   ]
  },
  {
   "cell_type": "markdown",
   "metadata": {},
   "source": [
    "### Testing Accuracy on USPS"
   ]
  },
  {
   "cell_type": "code",
   "execution_count": 227,
   "metadata": {},
   "outputs": [
    {
     "name": "stdout",
     "output_type": "stream",
     "text": [
      "Testing Accuracy : 39.67\n"
     ]
    }
   ],
   "source": [
    "right = 0\n",
    "wrong = 0\n",
    "for i in range(len(testdata)):\n",
    "    if(y_pred_u[i]==USPSTar[i]):\n",
    "        right = right + 1\n",
    "    else:\n",
    "        wrong = wrong + 1\n",
    "    \n",
    "testacc = (right/(right+wrong))*100\n",
    "print(\"Testing Accuracy : \"+ str(testacc))"
   ]
  },
  {
   "cell_type": "markdown",
   "metadata": {},
   "source": [
    "### Confusion Matrix on MNIST"
   ]
  },
  {
   "cell_type": "code",
   "execution_count": 129,
   "metadata": {},
   "outputs": [
    {
     "name": "stdout",
     "output_type": "stream",
     "text": [
      "[[ 967    0    0    2    0    2    5    2    2    0]\n",
      " [   0 1121    5    2    0    1    2    0    4    0]\n",
      " [   8    3  985    8    3    0    2   11   11    1]\n",
      " [   1    0   18  940    2   16    0   12   18    3]\n",
      " [   3    1    4    3  933    0    8    4    4   22]\n",
      " [   8    4    4   36    8  812    5    3    8    4]\n",
      " [   6    3    2    0    8   10  925    0    4    0]\n",
      " [   4    8   21   10    6    1    0  963    3   12]\n",
      " [   7    2   14   20   13   12    7    5  888    6]\n",
      " [   6    9    7   16   19   10    2    9    5  926]]\n"
     ]
    }
   ],
   "source": [
    "y_predict = y_pred_rf\n",
    "y_true = testtar\n",
    "cf_rfmnist = confusion_matrix(y_true,y_predict)\n",
    "print(cf_rfmnist)"
   ]
  },
  {
   "cell_type": "markdown",
   "metadata": {},
   "source": [
    "### Confusion Matrix on USPS"
   ]
  },
  {
   "cell_type": "code",
   "execution_count": 228,
   "metadata": {},
   "outputs": [
    {
     "name": "stdout",
     "output_type": "stream",
     "text": [
      "[[664  54 304 113 352 125  80 134  14 160]\n",
      " [ 78 494 168 110 218  95  37 747  20  33]\n",
      " [259 109 931 116  99 183  80 176  31  15]\n",
      " [123  48 190 926  91 386  31 121  24  60]\n",
      " [ 33 216 116  90 951 154  41 305  36  58]\n",
      " [285  88 168 239  68 913  67 119  21  32]\n",
      " [418  91 338 107 160 288 460  86  27  25]\n",
      " [140 410 304 256  76 191  45 541  14  23]\n",
      " [187 125 287 239 159 637  96  92 133  45]\n",
      " [ 80 282 313 300 245 141  37 421  68 113]]\n"
     ]
    }
   ],
   "source": [
    "y_predict = y_pred_u\n",
    "y_true = USPSTar\n",
    "cf_rfusps = confusion_matrix(y_true,y_predict)\n",
    "print(cf_rfusps)"
   ]
  },
  {
   "cell_type": "markdown",
   "metadata": {},
   "source": [
    "## Ensemble Classifier"
   ]
  },
  {
   "cell_type": "markdown",
   "metadata": {},
   "source": [
    "### Logistic Regression + Linear SVM + Neural Network + Random Forest ( Majority Voting) on MNIST"
   ]
  },
  {
   "cell_type": "code",
   "execution_count": 265,
   "metadata": {},
   "outputs": [],
   "source": [
    "\n",
    "fpm = []\n",
    "for i in range(len(testdata)):\n",
    "    classp = np.zeros(10)\n",
    "    classp[y_pred_lr[i]] += 1\n",
    "    classp[y_pred_nn[i]] += 1\n",
    "    classp[y_pred_svm[i]] += 1\n",
    "    classp[y_pred_rf[i]] +=1\n",
    "    fpm.append(np.argmax(classp))\n",
    "    \n",
    "    "
   ]
  },
  {
   "cell_type": "code",
   "execution_count": 266,
   "metadata": {},
   "outputs": [
    {
     "name": "stdout",
     "output_type": "stream",
     "text": [
      "Testing Accuracy : 95.30999999999999\n"
     ]
    }
   ],
   "source": [
    "fpm = np.asarray(fpm)\n",
    "right = 0\n",
    "wrong = 0\n",
    "for i in range(len(testdata)):\n",
    "    if(fpm[i]==testtar[i]):\n",
    "        right = right + 1\n",
    "    else:\n",
    "        wrong = wrong + 1\n",
    "    \n",
    "testacc = (right/(right+wrong))*100\n",
    "print(\"Testing Accuracy : \"+ str(testacc))"
   ]
  },
  {
   "cell_type": "markdown",
   "metadata": {},
   "source": [
    "### Logistic Regression + Linear SVM + Neural Network + Random Forest ( Majority Voting) on USPS"
   ]
  },
  {
   "cell_type": "code",
   "execution_count": 260,
   "metadata": {},
   "outputs": [
    {
     "name": "stdout",
     "output_type": "stream",
     "text": [
      "Testing Accuracy : 36.60183009150458\n"
     ]
    }
   ],
   "source": [
    "\n",
    "fp = []\n",
    "for i in range(len(USPSTar)):\n",
    "    classp = np.zeros(10)\n",
    "    classp[y_pred_lr_usps[i]] += 1\n",
    "    classp[y_pred_nn_usps[i]] += 1\n",
    "    classp[y_pred_svmusps[i]] += 1\n",
    "    classp[y_pred_u[i]] +=1\n",
    "    fp.append(np.argmax(classp))\n",
    "\n",
    "fp = np.asarray(fp)\n",
    "right = 0\n",
    "wrong = 0\n",
    "for i in range(len(USPSTar)):\n",
    "    if(fp[i]==USPSTar[i]):\n",
    "        right = right + 1\n",
    "    else:\n",
    "        wrong = wrong + 1\n",
    "    \n",
    "testacc = (right/(right+wrong))*100\n",
    "print(\"Testing Accuracy : \"+ str(testacc))"
   ]
  },
  {
   "cell_type": "markdown",
   "metadata": {},
   "source": [
    "### Confusion Matrix on MNIST"
   ]
  },
  {
   "cell_type": "code",
   "execution_count": 269,
   "metadata": {},
   "outputs": [
    {
     "name": "stdout",
     "output_type": "stream",
     "text": [
      "[[ 971    1    1    0    0    2    2    1    2    0]\n",
      " [   0 1127    3    1    0    1    2    1    0    0]\n",
      " [   7    7  990    5    2    2    3    8    7    1]\n",
      " [   2    0   17  974    0    7    0    4    5    1]\n",
      " [   1    2    3    2  950    0    5    1    3   15]\n",
      " [   6    1    1   34    8  824    9    0    8    1]\n",
      " [   8    3    2    2    6   16  921    0    0    0]\n",
      " [   2    6   22    5    6    1    0  974    2   10]\n",
      " [   6    7    6   23   10   24    9   10  873    6]\n",
      " [   7    7    3   14   22    7    0   16    6  927]]\n"
     ]
    }
   ],
   "source": [
    "y_predict = fpm\n",
    "y_true = testtar\n",
    "cf_emnist = confusion_matrix(y_true,y_predict)\n",
    "print(cf_emnist)"
   ]
  },
  {
   "cell_type": "markdown",
   "metadata": {},
   "source": [
    "### Confusion Matrix on USPS"
   ]
  },
  {
   "cell_type": "code",
   "execution_count": 267,
   "metadata": {},
   "outputs": [
    {
     "name": "stdout",
     "output_type": "stream",
     "text": [
      "[[ 610   11  354  127  152  180   93  240   57  176]\n",
      " [  78  433  515  148  266  110   15  362   65    8]\n",
      " [ 119   28 1463   73   16  151   75   39   25   10]\n",
      " [  52    6  413 1054    4  374   18   42   23   14]\n",
      " [  47  114  136   60 1008  135   31  290  137   42]\n",
      " [ 101   25  450  176    4 1132   50   38   18    6]\n",
      " [ 189   26  623   58   44  308  665   40    7   40]\n",
      " [ 162  253  229  450   37  108   21  608  121   11]\n",
      " [ 234   37  242  431   66  554   92  107  208   29]\n",
      " [  39  144  182  455   90   57    7  672  215  139]]\n"
     ]
    }
   ],
   "source": [
    "y_predict = fp\n",
    "y_true = USPSTar\n",
    "cf_eusps = confusion_matrix(y_true,y_predict)\n",
    "print(cf_eusps)"
   ]
  },
  {
   "cell_type": "code",
   "execution_count": 304,
   "metadata": {},
   "outputs": [],
   "source": []
  },
  {
   "cell_type": "code",
   "execution_count": null,
   "metadata": {},
   "outputs": [],
   "source": []
  },
  {
   "cell_type": "code",
   "execution_count": null,
   "metadata": {},
   "outputs": [],
   "source": []
  }
 ],
 "metadata": {
  "kernelspec": {
   "display_name": "Python 3",
   "language": "python",
   "name": "python3"
  },
  "language_info": {
   "codemirror_mode": {
    "name": "ipython",
    "version": 3
   },
   "file_extension": ".py",
   "mimetype": "text/x-python",
   "name": "python",
   "nbconvert_exporter": "python",
   "pygments_lexer": "ipython3",
   "version": "3.6.5"
  }
 },
 "nbformat": 4,
 "nbformat_minor": 2
}
